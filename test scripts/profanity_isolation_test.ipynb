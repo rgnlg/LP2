{
 "cells": [
  {
   "cell_type": "code",
   "execution_count": 1,
   "metadata": {},
   "outputs": [],
   "source": [
    "import numpy as np\n",
    "import re"
   ]
  },
  {
   "cell_type": "code",
   "execution_count": 2,
   "metadata": {},
   "outputs": [],
   "source": [
    "test_string = \"We were all young fuck I was here shit happens bla bla bla shitty\""
   ]
  },
  {
   "cell_type": "code",
   "execution_count": 9,
   "metadata": {},
   "outputs": [
    {
     "name": "stderr",
     "output_type": "stream",
     "text": [
      "<ipython-input-9-b6388bb2e963>:1: ConversionWarning: Some errors were detected !\n",
      "    Line #41 (got 2 columns instead of 1)\n",
      "    Line #58 (got 2 columns instead of 1)\n",
      "    Line #65 (got 2 columns instead of 1)\n",
      "    Line #138 (got 4 columns instead of 1)\n",
      "    Line #139 (got 6 columns instead of 1)\n",
      "    Line #193 (got 2 columns instead of 1)\n",
      "    Line #285 (got 2 columns instead of 1)\n",
      "    Line #313 (got 2 columns instead of 1)\n",
      "    Line #366 (got 2 columns instead of 1)\n",
      "  profanity = np.genfromtxt(\"/Users/olgaiarygina/Downloads/LP2/data/google_banned_profanity.txt\", dtype = str, invalid_raise = False)\n"
     ]
    }
   ],
   "source": [
    "profanity = np.genfromtxt(\"/Users/olgaiarygina/Downloads/LP2/data/google_banned_profanity.txt\", dtype = str, invalid_raise = False)"
   ]
  },
  {
   "cell_type": "code",
   "execution_count": 10,
   "metadata": {},
   "outputs": [
    {
     "data": {
      "text/plain": [
       "array(['4r5e', '5h1t', '5hit', 'a55', 'anal', 'anus', 'ar5e', 'arrse',\n",
       "       'arse', 'ass', 'ass-fucker', 'asses', 'assfucker', 'assfukka',\n",
       "       'asshole', 'assholes', 'asswhole', 'a_s_s', 'b!tch', 'b00bs',\n",
       "       'b17ch', 'b1tch', 'ballbag', 'balls', 'ballsack', 'bastard',\n",
       "       'beastial', 'beastiality', 'bellend', 'bestial', 'bestiality',\n",
       "       'bi+ch', 'biatch', 'bitch', 'bitcher', 'bitchers', 'bitches',\n",
       "       'bitchin', 'bitching', 'bloody', 'blowjob', 'blowjobs', 'boiolas',\n",
       "       'bollock', 'bollok', 'boner', 'boob', 'boobs', 'booobs', 'boooobs',\n",
       "       'booooobs', 'booooooobs', 'breasts', 'buceta', 'bugger', 'bum',\n",
       "       'butt', 'butthole', 'buttmunch', 'buttplug', 'c0ck', 'c0cksucker',\n",
       "       'cawk', 'chink', 'cipa', 'cl1t', 'clit', 'clitoris', 'clits',\n",
       "       'cnut', 'cock', 'cock-sucker', 'cockface', 'cockhead', 'cockmunch',\n",
       "       'cockmuncher', 'cocks', 'cocksuck', 'cocksucked', 'cocksucker',\n",
       "       'cocksucking', 'cocksucks', 'cocksuka', 'cocksukka', 'cok',\n",
       "       'cokmuncher', 'coksucka', 'coon', 'cox', 'crap', 'cum', 'cummer',\n",
       "       'cumming', 'cums', 'cumshot', 'cunilingus', 'cunillingus',\n",
       "       'cunnilingus', 'cunt', 'cuntlick', 'cuntlicker', 'cuntlicking',\n",
       "       'cunts', 'cyalis', 'cyberfuc', 'cyberfuck', 'cyberfucked',\n",
       "       'cyberfucker', 'cyberfuckers', 'cyberfucking', 'd1ck', 'damn',\n",
       "       'dick', 'dickhead', 'dildo', 'dildos', 'dink', 'dinks', 'dirsa',\n",
       "       'dlck', 'dog-fucker', 'doggin', 'dogging', 'donkeyribber', 'doosh',\n",
       "       'duche', 'dyke', 'ejaculate', 'ejaculated', 'ejaculates',\n",
       "       'ejaculating', 'ejaculatings', 'ejaculation', 'ejakulate', 'f4nny',\n",
       "       'fag', 'fagging', 'faggitt', 'faggot', 'faggs', 'fagot', 'fagots',\n",
       "       'fags', 'fanny', 'fannyflaps', 'fannyfucker', 'fanyy', 'fatass',\n",
       "       'fcuk', 'fcuker', 'fcuking', 'feck', 'fecker', 'felching',\n",
       "       'fellate', 'fellatio', 'fingerfuck', 'fingerfucked',\n",
       "       'fingerfucker', 'fingerfuckers', 'fingerfucking', 'fingerfucks',\n",
       "       'fistfuck', 'fistfucked', 'fistfucker', 'fistfuckers',\n",
       "       'fistfucking', 'fistfuckings', 'fistfucks', 'flange', 'fook',\n",
       "       'fooker', 'fuck', 'fucka', 'fucked', 'fucker', 'fuckers',\n",
       "       'fuckhead', 'fuckheads', 'fuckin', 'fucking', 'fuckings',\n",
       "       'fuckingshitmotherfucker', 'fuckme', 'fucks', 'fuckwhit',\n",
       "       'fuckwit', 'fudgepacker', 'fuk', 'fuker', 'fukker', 'fukkin',\n",
       "       'fuks', 'fukwhit', 'fukwit', 'fux', 'fux0r', 'f_u_c_k', 'gangbang',\n",
       "       'gangbanged', 'gangbangs', 'gaylord', 'gaysex', 'goatse', 'God',\n",
       "       'god-dam', 'god-damned', 'goddamn', 'goddamned', 'hardcoresex',\n",
       "       'hell', 'heshe', 'hoar', 'hoare', 'hoer', 'homo', 'hore',\n",
       "       'horniest', 'horny', 'hotsex', 'jack-off', 'jackoff', 'jap',\n",
       "       'jerk-off', 'jism', 'jiz', 'jizm', 'jizz', 'kawk', 'knob',\n",
       "       'knobead', 'knobed', 'knobend', 'knobhead', 'knobjocky',\n",
       "       'knobjokey', 'kock', 'kondum', 'kondums', 'kum', 'kummer',\n",
       "       'kumming', 'kums', 'kunilingus', 'l3i+ch', 'l3itch', 'labia',\n",
       "       'lmfao', 'lust', 'lusting', 'm0f0', 'm0fo', 'm45terbate',\n",
       "       'ma5terb8', 'ma5terbate', 'masochist', 'master-bate', 'masterb8',\n",
       "       'masterbat*', 'masterbat3', 'masterbate', 'masterbation',\n",
       "       'masterbations', 'masturbate', 'mo-fo', 'mof0', 'mofo',\n",
       "       'mothafuck', 'mothafucka', 'mothafuckas', 'mothafuckaz',\n",
       "       'mothafucked', 'mothafucker', 'mothafuckers', 'mothafuckin',\n",
       "       'mothafucking', 'mothafuckings', 'mothafucks', 'motherfuck',\n",
       "       'motherfucked', 'motherfucker', 'motherfuckers', 'motherfuckin',\n",
       "       'motherfucking', 'motherfuckings', 'motherfuckka', 'motherfucks',\n",
       "       'muff', 'mutha', 'muthafecker', 'muthafuckker', 'muther',\n",
       "       'mutherfucker', 'n1gga', 'n1gger', 'nazi', 'nigg3r', 'nigg4h',\n",
       "       'nigga', 'niggah', 'niggas', 'niggaz', 'nigger', 'niggers', 'nob',\n",
       "       'nobhead', 'nobjocky', 'nobjokey', 'numbnuts', 'nutsack',\n",
       "       'orgasim', 'orgasims', 'orgasm', 'orgasms', 'p0rn', 'pawn',\n",
       "       'pecker', 'penis', 'penisfucker', 'phonesex', 'phuck', 'phuk',\n",
       "       'phuked', 'phuking', 'phukked', 'phukking', 'phuks', 'phuq',\n",
       "       'pigfucker', 'pimpis', 'piss', 'pissed', 'pisser', 'pissers',\n",
       "       'pisses', 'pissflaps', 'pissin', 'pissing', 'pissoff', 'poop',\n",
       "       'porn', 'porno', 'pornography', 'pornos', 'prick', 'pricks',\n",
       "       'pron', 'pube', 'pusse', 'pussi', 'pussies', 'pussy', 'pussys',\n",
       "       'rectum', 'retard', 'rimjaw', 'rimming', 's.o.b.', 'sadist',\n",
       "       'schlong', 'screwing', 'scroat', 'scrote', 'scrotum', 'semen',\n",
       "       'sex', 'sh!+', 'sh!t', 'sh1t', 'shag', 'shagger', 'shaggin',\n",
       "       'shagging', 'shemale', 'shi+', 'shit', 'shitdick', 'shite',\n",
       "       'shited', 'shitey', 'shitfuck', 'shitfull', 'shithead', 'shiting',\n",
       "       'shitings', 'shits', 'shitted', 'shitter', 'shitters', 'shitting',\n",
       "       'shittings', 'shitty', 'skank', 'slut', 'sluts', 'smegma', 'smut',\n",
       "       'snatch', 'son-of-a-bitch', 'spac', 'spunk', 's_h_i_t', 't1tt1e5',\n",
       "       't1tties', 'teets', 'teez', 'testical', 'testicle', 'tit',\n",
       "       'titfuck', 'tits', 'titt', 'tittie5', 'tittiefucker', 'titties',\n",
       "       'tittyfuck', 'tittywank', 'titwank', 'tosser', 'turd', 'tw4t',\n",
       "       'twat', 'twathead', 'twatty', 'twunt', 'twunter', 'v14gra',\n",
       "       'v1gra', 'vagina', 'viagra', 'vulva', 'w00se', 'wang', 'wank',\n",
       "       'wanker', 'wanky', 'whoar', 'whore', 'willies', 'willy', 'xrated',\n",
       "       'xxx'], dtype='<U23')"
      ]
     },
     "execution_count": 10,
     "metadata": {},
     "output_type": "execute_result"
    }
   ],
   "source": [
    "profanity"
   ]
  },
  {
   "cell_type": "code",
   "execution_count": 18,
   "metadata": {},
   "outputs": [
    {
     "name": "stdout",
     "output_type": "stream",
     "text": [
      "fuck shit shitty\n"
     ]
    }
   ],
   "source": [
    "testwords = test_string.split()\n",
    "resultwords  = [word for word in testwords if word.lower() in profanity]\n",
    "result = ' '.join(resultwords)\n",
    "\n",
    "print(result)"
   ]
  },
  {
   "cell_type": "code",
   "execution_count": null,
   "metadata": {},
   "outputs": [],
   "source": []
  }
 ],
 "metadata": {
  "kernelspec": {
   "display_name": "Python 3",
   "language": "python",
   "name": "python3"
  },
  "language_info": {
   "codemirror_mode": {
    "name": "ipython",
    "version": 3
   },
   "file_extension": ".py",
   "mimetype": "text/x-python",
   "name": "python",
   "nbconvert_exporter": "python",
   "pygments_lexer": "ipython3",
   "version": "3.8.3"
  }
 },
 "nbformat": 4,
 "nbformat_minor": 4
}
